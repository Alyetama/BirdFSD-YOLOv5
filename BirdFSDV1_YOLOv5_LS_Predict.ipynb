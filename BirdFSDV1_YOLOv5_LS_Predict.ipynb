{
  "nbformat": 4,
  "nbformat_minor": 0,
  "metadata": {
    "colab": {
      "name": "BirdFSDV1-YOLOv5-LS-Predict.ipynb",
      "provenance": [],
      "collapsed_sections": []
    },
    "kernelspec": {
      "name": "python3",
      "display_name": "Python 3"
    },
    "language_info": {
      "name": "python"
    },
    "accelerator": "GPU"
  },
  "cells": [
    {
      "cell_type": "code",
      "execution_count": 6,
      "metadata": {
        "id": "0vXtjujFnwgh",
        "cellView": "form"
      },
      "outputs": [],
      "source": [
        "#@markdown ## **Don't change any of these values.**\n",
        "#-----------------------------------------------------\n",
        "# @markdown #### `Required fields:`\n",
        "project_id = 1  #@param {type: 'integer'}\n",
        "# weights = 'https://d.aibird.me/best.pt'  #@param {type: 'string'}\n",
        "weights = 'best'\n",
        "#-----------------------------------------------------\n",
        "#@markdown #### `Optional fields:`\n",
        "tasks_range = ''  #@param {type: 'string'}\n",
        "#@markdown > **Usage:** If you specify a `task_range`, the model will only predict tasks within that range. **Example usage:** `20000,21000`. **Default:** leave empty.\n",
        "predict_all = False  #@param {type: 'boolean'}\n",
        "#@markdown > **Usage:** If you check this box, the model will predict **ALL** the tasks in the project. **Default:** False (unchecked).\n",
        "model_version = 'BirdFSD-YOLOv5-v1.0.0-alpha.1'  #@param {type: 'string'}\n",
        "debug = False  #@param #@param {type: 'boolean'}\n",
        "one_task = False  #@param {type: 'boolean'}\n",
        "multithreading = True  #@param {type: 'boolean'}\n",
        "#-----------------------------------------------------\n",
        "# @markdown #### `W&B variables:`\n",
        "wandb_entity = 'biodiv'  #@param {type: 'string'}\n",
        "wandb_project = 'train'  #@param {type: 'string'}"
      ]
    },
    {
      "cell_type": "markdown",
      "source": [
        "**Run this command on the local server:**\n",
        "\n",
        "\n",
        "```shell\n",
        "croc send \"BirdFSD-YOLOv5/.env\"\n",
        "```\n",
        "\n",
        "- Copy the passphrase part and paste it in the cell input below.\n"
      ],
      "metadata": {
        "id": "VEWpOVJrpEOa"
      }
    },
    {
      "cell_type": "code",
      "source": [
        "!rm -rf /root/.cache\n",
        "\n",
        "! git clone --quiet https://github.com/bird-feeder/BirdFSD-YOLOv5.git\n",
        "%cd BirdFSD-YOLOv5\n",
        "! pip -q install -r requirements.txt > /dev/null 2>&1\n",
        "! pip -q install \"PyYAML>=5.3.1\" wandb > /dev/null 2>&1\n",
        "\n",
        "! curl https://getcroc.schollz.com | bash > /dev/null 2>&1\n",
        "\n",
        "PASSPHRASE = '' #@param {type:\"string\"}\n",
        "if not PASSPHRASE:\n",
        "    raise Exception('Paste the passphrase in the input bar!')\n",
        "if 'croc' in PASSPHRASE:\n",
        "    PASSPHRASE = PASSPHRASE.split('croc ')[1]\n",
        "\n",
        "! croc --yes $PASSPHRASE > /dev/null 2>&1\n",
        "\n",
        "! export $(cat .env | xargs) && python utils/best_weights.py -e \"$wandb_entity\" -p \"$wandb_project\"\n",
        "weights = 'best.pt'\n",
        "\n",
        "! mkdir ultralytics\n",
        "! git clone --quiet https://github.com/ultralytics/yolov5.git ultralytics/yolov5\n",
        "\n",
        "print('\\n>>>> Clear the passphrase input field!')"
      ],
      "metadata": {
        "id": "jl_qyNpmp6Et",
        "cellView": "form"
      },
      "execution_count": null,
      "outputs": []
    },
    {
      "cell_type": "code",
      "source": [
        "from predict import Predict\n",
        "\n",
        "predict = Predict(weights, project_id, tasks_range, predict_all, one_task,\n",
        "                  model_version, multithreading, debug)\n",
        "\n",
        "predict.apply_predictions()\n",
        "\n",
        "print('\\n\\nThe progress is approximate and may not reach 100%.')\n",
        "print('Finished successfully!')"
      ],
      "metadata": {
        "id": "x5nfRn24uqox"
      },
      "execution_count": null,
      "outputs": []
    },
    {
      "cell_type": "code",
      "source": [
        ""
      ],
      "metadata": {
        "id": "bsqC9zmzMfw7"
      },
      "execution_count": null,
      "outputs": []
    }
  ]
}
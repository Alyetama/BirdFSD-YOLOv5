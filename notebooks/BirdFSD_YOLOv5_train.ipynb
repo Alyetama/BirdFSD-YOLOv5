{
  "cells": [
    {
      "cell_type": "markdown",
      "metadata": {
        "id": "uTW5SLCq8omw"
      },
      "source": [
        "## Setup"
      ]
    },
    {
      "cell_type": "markdown",
      "metadata": {
        "id": "dpMhqqM6eSvS"
      },
      "source": [
        "**`Runtime` -->  `Change runtime type` --> `GPU`**"
      ]
    },
    {
      "cell_type": "code",
      "execution_count": null,
      "metadata": {
        "cellView": "form",
        "id": "TF5x-l8Jjje7"
      },
      "outputs": [],
      "source": [
        "! curl https://getcroc.schollz.com | bash\n",
        "\n",
        "! git clone https://github.com/bird-feeder/BirdFSD-YOLOv5.git\n",
        "%cd BirdFSD-YOLOv5\n",
        "\n",
        "! pip -q install -r requirements.txt\n",
        "! pip -q install \"PyYAML>=5.3.1\" wandb\n",
        "\n",
        "! git clone https://github.com/ultralytics/yolov5.git"
      ]
    },
    {
      "cell_type": "code",
      "execution_count": null,
      "metadata": {
        "cellView": "form",
        "id": "pyyuB0krhMRD"
      },
      "outputs": [],
      "source": [
        "#@title Login to W&B\n",
        "! wandb login"
      ]
    },
    {
      "cell_type": "markdown",
      "metadata": {
        "id": "GEZQXi3eZwl7"
      },
      "source": [
        "**Send the `.env` file to the notebook:**\n",
        "\n",
        "- Using [`Croc`](https://github.com/schollz/croc):\n",
        "\n",
        "  - Run the following command from the root folder where `BirdFSD-YOLOv5` is cloned:\n",
        "\n",
        "    ```shell\n",
        "    croc send \"BirdFSD-YOLOv5/.env\"\n",
        "    ```\n",
        "\n",
        "  - Copy the passphrase part and paste it in the cell input below.\n",
        "\n",
        "- If not using `Croc`:\n",
        "  - Drag and drop the `.env` file inside `BirdFSD-YOLOv5` in this notebook and skip the next cell."
      ]
    },
    {
      "cell_type": "code",
      "execution_count": null,
      "metadata": {
        "cellView": "form",
        "id": "dRxSgYtjjq-W"
      },
      "outputs": [],
      "source": [
        "PASSPHRASE = '' #@param {'type': 'string'}\n",
        "! croc --yes $PASSPHRASE"
      ]
    },
    {
      "cell_type": "markdown",
      "metadata": {},
      "source": [
        "## Download model weights"
      ]
    },
    {
      "cell_type": "code",
      "execution_count": null,
      "metadata": {},
      "outputs": [],
      "source": [
        "! python model_utils/download_weights.py --model-version latest --output 'best.pt'"
      ]
    },
    {
      "cell_type": "markdown",
      "metadata": {},
      "source": [
        "## Data Preprocessing"
      ]
    },
    {
      "cell_type": "code",
      "execution_count": null,
      "metadata": {
        "cellView": "form",
        "id": "VWRkYdKBkVTt"
      },
      "outputs": [],
      "source": [
        "LABEL_STUDIO_PROJECT_ID=  #required\n",
        "! python json2yolov5.py -p $LABEL_STUDIO_PROJECT_ID\n",
        "\n",
        "! mv dataset-YOLO/dataset_config.yml .\n",
        "! python utils/relative_to_abs.py"
      ]
    },
    {
      "cell_type": "markdown",
      "metadata": {
        "id": "YtlqcNEv8d06"
      },
      "source": [
        "## Available Training Options"
      ]
    },
    {
      "cell_type": "markdown",
      "metadata": {},
      "source": [
        "```\n",
        "usage: train.py [-h] [--weights WEIGHTS] [--cfg CFG] [--data DATA] [--hyp HYP]\n",
        "                [--epochs EPOCHS] [--batch-size BATCH_SIZE] [--imgsz IMGSZ]\n",
        "                [--rect] [--resume [RESUME]] [--nosave] [--noval]\n",
        "                [--noautoanchor] [--noplots] [--evolve [EVOLVE]]\n",
        "                [--bucket BUCKET] [--cache [CACHE]] [--image-weights]\n",
        "                [--device DEVICE] [--multi-scale] [--single-cls]\n",
        "                [--optimizer {SGD,Adam,AdamW}] [--sync-bn] [--workers WORKERS]\n",
        "                [--project PROJECT] [--name NAME] [--exist-ok] [--quad]\n",
        "                [--cos-lr] [--label-smoothing LABEL_SMOOTHING]\n",
        "                [--patience PATIENCE] [--freeze FREEZE [FREEZE ...]]\n",
        "                [--save-period SAVE_PERIOD] [--local_rank LOCAL_RANK]\n",
        "                [--entity ENTITY] [--upload_dataset [UPLOAD_DATASET]]\n",
        "                [--bbox_interval BBOX_INTERVAL]\n",
        "                [--artifact_alias ARTIFACT_ALIAS]\n",
        "\n",
        "optional arguments:\n",
        "  -h, --help            show this help message and exit\n",
        "  --weights WEIGHTS     initial weights path\n",
        "  --cfg CFG             model.yaml path\n",
        "  --data DATA           dataset.yaml path\n",
        "  --hyp HYP             hyperparameters path\n",
        "  --epochs EPOCHS\n",
        "  --batch-size BATCH_SIZE\n",
        "                        total batch size for all GPUs, -1 for autobatch\n",
        "  --imgsz IMGSZ, --img IMGSZ, --img-size IMGSZ\n",
        "                        train, val image size (pixels)\n",
        "  --rect                rectangular training\n",
        "  --resume [RESUME]     resume most recent training\n",
        "  --nosave              only save final checkpoint\n",
        "  --noval               only validate final epoch\n",
        "  --noautoanchor        disable AutoAnchor\n",
        "  --noplots             save no plot files\n",
        "  --evolve [EVOLVE]     evolve hyperparameters for x generations\n",
        "  --bucket BUCKET       gsutil bucket\n",
        "  --cache [CACHE]       --cache images in \"ram\" (default) or \"disk\"\n",
        "  --image-weights       use weighted image selection for training\n",
        "  --device DEVICE       cuda device, i.e. 0 or 0,1,2,3 or cpu\n",
        "  --multi-scale         vary img-size +/- 50%\n",
        "  --single-cls          train multi-class data as single-class\n",
        "  --optimizer {SGD,Adam,AdamW}\n",
        "                        optimizer\n",
        "  --sync-bn             use SyncBatchNorm, only available in DDP mode\n",
        "  --workers WORKERS     max dataloader workers (per RANK in DDP mode)\n",
        "  --project PROJECT     save to project/name\n",
        "  --name NAME           save to project/name\n",
        "  --exist-ok            existing project/name ok, do not increment\n",
        "  --quad                quad dataloader\n",
        "  --cos-lr              cosine LR scheduler\n",
        "  --label-smoothing LABEL_SMOOTHING\n",
        "                        Label smoothing epsilon\n",
        "  --patience PATIENCE   EarlyStopping patience (epochs without improvement)\n",
        "  --freeze FREEZE [FREEZE ...]\n",
        "                        Freeze layers: backbone=10, first3=0 1 2\n",
        "  --save-period SAVE_PERIOD\n",
        "                        Save checkpoint every x epochs (disabled if < 1)\n",
        "  --local_rank LOCAL_RANK\n",
        "                        DDP parameter, do not modify\n",
        "  --entity ENTITY       W&B: Entity\n",
        "  --upload_dataset [UPLOAD_DATASET]\n",
        "                        W&B: Upload data, \"val\" option\n",
        "  --bbox_interval BBOX_INTERVAL\n",
        "                        W&B: Set bounding-box image logging interval\n",
        "  --artifact_alias ARTIFACT_ALIAS\n",
        "                        W&B: Version of dataset artifact to use\n",
        "```"
      ]
    },
    {
      "cell_type": "markdown",
      "metadata": {
        "id": "3-ZiwyHu8gKl"
      },
      "source": [
        "## Train"
      ]
    },
    {
      "cell_type": "code",
      "execution_count": null,
      "metadata": {
        "cellView": "form",
        "id": "JwCXa04x7Cu_"
      },
      "outputs": [],
      "source": [
        "EPOCHS = 30 #@param {type:\"integer\"}\n",
        "BATCH_SIZE = 16 #@param {type:\"integer\"}\n",
        "PRETRAINED_WEIGHTS = 'best.pt'\n",
        "IMAGE_SIZE = 768  # input images height"
      ]
    },
    {
      "cell_type": "markdown",
      "metadata": {},
      "source": [
        "Notes on resuming training:\n",
        "- If your training was interrupted for any reason you may continue where you left off using the `--resume` flag.\n",
        "- If your training fully completed, you can start a new training from any model using the `--weights` flag."
      ]
    },
    {
      "cell_type": "code",
      "execution_count": null,
      "metadata": {
        "cellView": "form",
        "id": "yunUootj7JqZ"
      },
      "outputs": [],
      "source": [
        "! python yolov5/train.py --img-size $IMAGE_SIZE --batch $BATCH_SIZE --epochs $EPOCHS \\\n",
        "    --data 'dataset_config.yml' --weights $PRETRAINED_WEIGHTS"
      ]
    },
    {
      "cell_type": "markdown",
      "metadata": {
        "id": "HTpWX7vE8kFb"
      },
      "source": [
        "## Add Additional Metadata\n",
        "\n",
        "- Click on the run link in the output above.  Paste the run path in the input field, then run the next cell."
      ]
    },
    {
      "cell_type": "code",
      "execution_count": null,
      "metadata": {},
      "outputs": [],
      "source": [
        "#@markdown **Run path** `<entity>/<project>/<run_id>`\n",
        "#@markdown ![run_path](https://d.aibird.me/41a26c3b.png)\n",
        "\n",
        "RUN_PATH = '' #@param {type: 'string'}\n",
        "\n",
        "! python model_utils/update_run_cfg.py --run-path \"$RUN_PATH\" --dataset-dir 'dataset-YOLO'"
      ]
    },
    {
      "cell_type": "markdown",
      "metadata": {
        "id": "5Zj2fURA6CBO"
      },
      "source": [
        "## Cleaning up"
      ]
    },
    {
      "cell_type": "markdown",
      "metadata": {
        "id": "joNL0gW85Yad"
      },
      "source": [
        "1. Clear all the input fields.\n",
        "2. Clear the output: `Edit` -> `Clear all output`."
      ]
    }
  ],
  "metadata": {
    "accelerator": "GPU",
    "colab": {
      "collapsed_sections": [
        "YtlqcNEv8d06"
      ],
      "name": "BirdFSD-YOLOv5_train.ipynb",
      "provenance": []
    },
    "kernelspec": {
      "display_name": "Python 3",
      "name": "python3"
    },
    "language_info": {
      "codemirror_mode": {
        "name": "ipython",
        "version": 3
      },
      "file_extension": ".py",
      "mimetype": "text/x-python",
      "name": "python",
      "nbconvert_exporter": "python",
      "pygments_lexer": "ipython3",
      "version": "3.9.10"
    }
  },
  "nbformat": 4,
  "nbformat_minor": 0
}

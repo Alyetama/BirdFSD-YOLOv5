{
 "cells": [
  {
   "cell_type": "markdown",
   "metadata": {
    "colab_type": "text",
    "id": "view-in-github",
    "pycharm": {
     "name": "#%% md\n"
    }
   },
   "source": [
    "<a href=\"https://colab.research.google.com/github/bird-feeder/BirdFSD-YOLOv5/blob/main/notebooks/BirdFSD_YOLOv5_train.ipynb\" target=\"_parent\"><img src=\"https://colab.research.google.com/assets/colab-badge.svg\" alt=\"Open In Colab\"/></a>"
   ]
  },
  {
   "cell_type": "markdown",
   "metadata": {
    "id": "uTW5SLCq8omw",
    "pycharm": {
     "name": "#%% md\n"
    }
   },
   "source": [
    "## Setup"
   ]
  },
  {
   "cell_type": "markdown",
   "metadata": {
    "id": "dpMhqqM6eSvS",
    "pycharm": {
     "name": "#%% md\n"
    }
   },
   "source": [
    "**`Runtime` -->  `Change runtime type` --> `GPU`**"
   ]
  },
  {
   "cell_type": "markdown",
   "metadata": {},
   "source": [
    "- Drag and drop your `.env` (or `secrets.txt`) file to the files section of this notebook."
   ]
  },
  {
   "cell_type": "code",
   "execution_count": null,
   "metadata": {},
   "outputs": [],
   "source": [
    "! wget -q 'https://github.com/conda-forge/miniforge/releases/latest/download/Miniforge3-Linux-x86_64.sh'\n",
    "! bash \"Miniforge3-Linux-x86_64.sh\" -b -p"
   ]
  },
  {
   "cell_type": "code",
   "execution_count": null,
   "metadata": {
    "cellView": "form",
    "id": "TF5x-l8Jjje7",
    "pycharm": {
     "name": "#%%\n"
    }
   },
   "outputs": [],
   "source": [
    "! git clone https://github.com/bird-feeder/BirdFSD-YOLOv5.git\n",
    "\n",
    "import shutil\n",
    "from pathlib import Path\n",
    "if Path('.env').exists():\n",
    "    shutil.move('.env', 'BirdFSD-YOLOv5/.env')\n",
    "elif Path('secrets.txt').exists():\n",
    "    shutil.move('secrets.txt', 'BirdFSD-YOLOv5/.env')\n",
    "\n",
    "%cd /content/BirdFSD-YOLOv5\n",
    "\n",
    "! /root/miniforge3/bin/python -m pip install -e .\n",
    "! /root/miniforge3/bin/pip install -r requirements.txt\n",
    "\n",
    "! git clone https://github.com/ultralytics/yolov5.git"
   ]
  },
  {
   "cell_type": "code",
   "execution_count": null,
   "metadata": {
    "cellView": "form",
    "id": "pyyuB0krhMRD",
    "pycharm": {
     "name": "#%%\n"
    }
   },
   "outputs": [],
   "source": [
    "#@title Login to W&B\n",
    "! wandb login"
   ]
  },
  {
   "cell_type": "markdown",
   "metadata": {
    "id": "YpHabKhNOBE8",
    "pycharm": {
     "name": "#%% md\n"
    }
   },
   "source": [
    "## Download model weights"
   ]
  },
  {
   "cell_type": "code",
   "execution_count": null,
   "metadata": {
    "id": "g22VYHPpOBE8",
    "pycharm": {
     "name": "#%%\n"
    }
   },
   "outputs": [],
   "source": [
    "# Run this cell only if you have trained the model at least once before. Otherwise, skip it.\n",
    "! /root/miniforge3/bin/python birdfsd_yolov5/model_utils/download_weights.py --model-version latest --output 'best.pt'"
   ]
  },
  {
   "cell_type": "markdown",
   "metadata": {
    "id": "XlzEPMaDOBE8",
    "pycharm": {
     "name": "#%% md\n"
    }
   },
   "source": [
    "## Data Preprocessing"
   ]
  },
  {
   "cell_type": "code",
   "execution_count": null,
   "metadata": {
    "pycharm": {
     "name": "#%%\n"
    }
   },
   "outputs": [],
   "source": [
    "! /root/miniforge3/bin/python birdfsd_yolov5/model_utils/s3_helper.py --download-dataset"
   ]
  },
  {
   "cell_type": "code",
   "execution_count": null,
   "metadata": {
    "cellView": "form",
    "id": "VWRkYdKBkVTt",
    "pycharm": {
     "name": "#%%\n"
    }
   },
   "outputs": [],
   "source": [
    "! tar -xf dataset-YOLO-*.tar\n",
    "! mv dataset-YOLO/dataset_config.yml .\n",
    "! /root/miniforge3/bin/python birdfsd_yolov5/model_utils/relative_to_abs.py"
   ]
  },
  {
   "cell_type": "markdown",
   "metadata": {
    "id": "YtlqcNEv8d06",
    "pycharm": {
     "name": "#%% md\n"
    }
   },
   "source": [
    "## Available Training Options"
   ]
  },
  {
   "cell_type": "markdown",
   "metadata": {
    "id": "Zo7YeZlYOBE9",
    "pycharm": {
     "name": "#%% md\n"
    }
   },
   "source": [
    "```\n",
    "usage: train.py [-h] [--weights WEIGHTS] [--cfg CFG] [--data DATA] [--hyp HYP]\n",
    "                [--epochs EPOCHS] [--batch-size BATCH_SIZE] [--imgsz IMGSZ]\n",
    "                [--rect] [--resume [RESUME]] [--nosave] [--noval]\n",
    "                [--noautoanchor] [--noplots] [--evolve [EVOLVE]]\n",
    "                [--bucket BUCKET] [--cache [CACHE]] [--image-weights]\n",
    "                [--device DEVICE] [--multi-scale] [--single-cls]\n",
    "                [--optimizer {SGD,Adam,AdamW}] [--sync-bn] [--workers WORKERS]\n",
    "                [--project PROJECT] [--name NAME] [--exist-ok] [--quad]\n",
    "                [--cos-lr] [--label-smoothing LABEL_SMOOTHING]\n",
    "                [--patience PATIENCE] [--freeze FREEZE [FREEZE ...]]\n",
    "                [--save-period SAVE_PERIOD] [--local_rank LOCAL_RANK]\n",
    "                [--entity ENTITY] [--upload_dataset [UPLOAD_DATASET]]\n",
    "                [--bbox_interval BBOX_INTERVAL]\n",
    "                [--artifact_alias ARTIFACT_ALIAS]\n",
    "\n",
    "optional arguments:\n",
    "  -h, --help            show this help message and exit\n",
    "  --weights WEIGHTS     initial weights path\n",
    "  --cfg CFG             model.yaml path\n",
    "  --data DATA           dataset.yaml path\n",
    "  --hyp HYP             hyperparameters path\n",
    "  --epochs EPOCHS\n",
    "  --batch-size BATCH_SIZE\n",
    "                        total batch size for all GPUs, -1 for autobatch\n",
    "  --imgsz IMGSZ, --img IMGSZ, --img-size IMGSZ\n",
    "                        train, val image size (pixels)\n",
    "  --rect                rectangular training\n",
    "  --resume [RESUME]     resume most recent training\n",
    "  --nosave              only save final checkpoint\n",
    "  --noval               only validate final epoch\n",
    "  --noautoanchor        disable AutoAnchor\n",
    "  --noplots             save no plot files\n",
    "  --evolve [EVOLVE]     evolve hyperparameters for x generations\n",
    "  --bucket BUCKET       gsutil bucket\n",
    "  --cache [CACHE]       --cache images in \"ram\" (default) or \"disk\"\n",
    "  --image-weights       use weighted image selection for training\n",
    "  --device DEVICE       cuda device, i.e. 0 or 0,1,2,3 or cpu\n",
    "  --multi-scale         vary img-size +/- 50%\n",
    "  --single-cls          train multi-class data as single-class\n",
    "  --optimizer {SGD,Adam,AdamW}\n",
    "                        optimizer\n",
    "  --sync-bn             use SyncBatchNorm, only available in DDP mode\n",
    "  --workers WORKERS     max dataloader workers (per RANK in DDP mode)\n",
    "  --project PROJECT     save to project/name\n",
    "  --name NAME           save to project/name\n",
    "  --exist-ok            existing project/name ok, do not increment\n",
    "  --quad                quad dataloader\n",
    "  --cos-lr              cosine LR scheduler\n",
    "  --label-smoothing LABEL_SMOOTHING\n",
    "                        Label smoothing epsilon\n",
    "  --patience PATIENCE   EarlyStopping patience (epochs without improvement)\n",
    "  --freeze FREEZE [FREEZE ...]\n",
    "                        Freeze layers: backbone=10, first3=0 1 2\n",
    "  --save-period SAVE_PERIOD\n",
    "                        Save checkpoint every x epochs (disabled if < 1)\n",
    "  --local_rank LOCAL_RANK\n",
    "                        DDP parameter, do not modify\n",
    "  --entity ENTITY       W&B: Entity\n",
    "  --upload_dataset [UPLOAD_DATASET]\n",
    "                        W&B: Upload data, \"val\" option\n",
    "  --bbox_interval BBOX_INTERVAL\n",
    "                        W&B: Set bounding-box image logging interval\n",
    "  --artifact_alias ARTIFACT_ALIAS\n",
    "                        W&B: Version of dataset artifact to use\n",
    "```"
   ]
  },
  {
   "cell_type": "markdown",
   "metadata": {
    "id": "3-ZiwyHu8gKl",
    "pycharm": {
     "name": "#%% md\n"
    }
   },
   "source": [
    "## Train"
   ]
  },
  {
   "cell_type": "code",
   "execution_count": null,
   "metadata": {
    "cellView": "form",
    "id": "JwCXa04x7Cu_",
    "pycharm": {
     "name": "#%%\n"
    }
   },
   "outputs": [],
   "source": [
    "EPOCHS =  100  #@param {type:\"integer\"}\n",
    "BATCH_SIZE = 16  #@param {type:\"integer\"}\n",
    "if Path('best.pt').exists():\n",
    "    PRETRAINED_WEIGHTS = 'best.pt'  #@param {type:\"string\"}\n",
    "else:\n",
    "    PRETRAINED_WEIGHTS = 'yolov5s'  #@param {type:\"string\"}"
   ]
  },
  {
   "cell_type": "markdown",
   "metadata": {
    "id": "0YZ4-TIZOBE_",
    "pycharm": {
     "name": "#%% md\n"
    }
   },
   "source": [
    "Notes on resuming training:\n",
    "- If your training was interrupted for any reason you may continue where you left off using the `--resume` flag.\n",
    "- If your training is fully completed, you can start a new training from any model using the `--weights` flag."
   ]
  },
  {
   "cell_type": "code",
   "execution_count": null,
   "metadata": {
    "pycharm": {
     "name": "#%%\n"
    }
   },
   "outputs": [],
   "source": [
    "! /root/miniforge3/bin/python yolov5/train.py \\\n",
    "    --batch $BATCH_SIZE \\\n",
    "    --epochs $EPOCHS \\\n",
    "    --data 'dataset_config.yml' \\\n",
    "    --weights \"$PRETRAINED_WEIGHTS\""
   ]
  }
 ],
 "metadata": {
  "accelerator": "GPU",
  "colab": {
   "collapsed_sections": [
    "YtlqcNEv8d06"
   ],
   "include_colab_link": true,
   "name": "BirdFSD-YOLOv5_train.ipynb",
   "provenance": []
  },
  "kernelspec": {
   "display_name": "Python 3 (ipykernel)",
   "language": "python",
   "name": "python3"
  },
  "language_info": {
   "codemirror_mode": {
    "name": "ipython",
    "version": 3
   },
   "file_extension": ".py",
   "mimetype": "text/x-python",
   "name": "python",
   "nbconvert_exporter": "python",
   "pygments_lexer": "ipython3",
   "version": "3.9.10"
  }
 },
 "nbformat": 4,
 "nbformat_minor": 1
}

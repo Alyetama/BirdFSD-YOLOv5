{
  "cells": [
    {
      "cell_type": "markdown",
      "metadata": {
        "id": "uTW5SLCq8omw"
      },
      "source": [
        "# Setup"
      ]
    },
    {
      "cell_type": "markdown",
      "metadata": {
        "id": "dpMhqqM6eSvS"
      },
      "source": [
        "**`Runtime` -->  `Change runtime type` --> `GPU`**"
      ]
    },
    {
      "cell_type": "code",
      "execution_count": null,
      "metadata": {
        "cellView": "form",
        "id": "TF5x-l8Jjje7"
      },
      "outputs": [],
      "source": [
        "! curl https://getcroc.schollz.com | bash > /dev/null 2>&1\n",
        "! git clone -q https://github.com/bird-feeder/BirdFSD-YOLOv5.git\n",
        "%cd BirdFSD-YOLOv5\n",
        "! pip -q install -r requirements.txt > /dev/null 2>&1\n",
        "! pip -q install \"PyYAML>=5.3.1\" wandb > /dev/null 2>&1\n",
        "! git clone -q https://github.com/ultralytics/yolov5.git\n",
        "\n",
        "WEIGHTS='' #@param {type: 'string'}\n",
        "\n",
        "! wget $WEIGHTS -qO best.pt"
      ]
    },
    {
      "cell_type": "code",
      "execution_count": null,
      "metadata": {
        "cellView": "form",
        "id": "pyyuB0krhMRD"
      },
      "outputs": [],
      "source": [
        "#@title Login to W&B\n",
        "! wandb login"
      ]
    },
    {
      "cell_type": "markdown",
      "metadata": {
        "id": "GEZQXi3eZwl7"
      },
      "source": [
        "**Run this command on the local server:**\n",
        "\n",
        "\n",
        "```shell\n",
        "croc send \"BirdFSD-YOLOv5/.env\"\n",
        "```\n",
        "\n",
        "- Copy the passphrase part and paste it in the cell input below.\n"
      ]
    },
    {
      "cell_type": "code",
      "execution_count": null,
      "metadata": {
        "cellView": "form",
        "id": "dRxSgYtjjq-W"
      },
      "outputs": [],
      "source": [
        "PASSPHRASE = '' #@param {'type': 'string'}\n",
        "! croc --yes $PASSPHRASE"
      ]
    },
    {
      "cell_type": "code",
      "execution_count": null,
      "metadata": {
        "cellView": "form",
        "id": "VWRkYdKBkVTt"
      },
      "outputs": [],
      "source": [
        "#@title Run dataset pre-processing\n",
        "! python json2yolov5.py -p 1\n",
        "! mv dataset-YOLO/dataset_config.yml .\n",
        "! python utils/relative_to_abs.py"
      ]
    },
    {
      "cell_type": "markdown",
      "metadata": {
        "id": "YtlqcNEv8d06"
      },
      "source": [
        "# Available Options"
      ]
    },
    {
      "cell_type": "markdown",
      "metadata": {
        "id": "O6-OfsDr8Ldn"
      },
      "source": [
        "```python\n",
        "arg('--weights', type=str, default=ROOT / 'yolov5s.pt', help='initial weights path')\n",
        "arg('--cfg', type=str, default='', help='model.yaml path')\n",
        "arg('--data', type=str, default=ROOT / 'data/coco128.yaml', help='dataset.yaml path')\n",
        "arg('--hyp', type=str, default=ROOT / 'data/hyps/hyp.scratch-low.yaml', help='hyperparameters path')\n",
        "arg('--epochs', type=int, default=300)\n",
        "arg('--batch-size', type=int, default=16, help='total batch size for all GPUs, -1 for autobatch')\n",
        "arg('--imgsz', '--img', '--img-size', type=int, default=640, help='train, val image size (pixels)')\n",
        "arg('--rect', action='store_true', help='rectangular training')\n",
        "arg('--resume', nargs='?', const=True, default=False, help='resume most recent training')\n",
        "arg('--nosave', action='store_true', help='only save final checkpoint')\n",
        "arg('--noval', action='store_true', help='only validate final epoch')\n",
        "arg('--noautoanchor', action='store_true', help='disable AutoAnchor')\n",
        "arg('--evolve', type=int, nargs='?', const=300, help='evolve hyperparameters for x generations')\n",
        "arg('--bucket', type=str, default='', help='gsutil bucket')\n",
        "arg('--cache', type=str, nargs='?', const='ram', help='--cache images in \"ram\" (default) or \"disk\"')\n",
        "arg('--image-weights', action='store_true', help='use weighted image selection for training')\n",
        "arg('--device', default='', help='cuda device, i.e. 0 or 0,1,2,3 or cpu')\n",
        "arg('--multi-scale', action='store_true', help='vary img-size +/- 50%%')\n",
        "arg('--single-cls', action='store_true', help='train multi-class data as single-class')\n",
        "arg('--optimizer', type=str, choices=['SGD', 'Adam', 'AdamW'], default='SGD', help='optimizer')\n",
        "arg('--sync-bn', action='store_true', help='use SyncBatchNorm, only available in DDP mode')\n",
        "arg('--workers', type=int, default=8, help='max dataloader workers (per RANK in DDP mode)')\n",
        "arg('--project', default=ROOT / 'runs/train', help='save to project/name')\n",
        "arg('--name', default='exp', help='save to project/name')\n",
        "arg('--exist-ok', action='store_true', help='existing project/name ok, do not increment')\n",
        "arg('--quad', action='store_true', help='quad dataloader')\n",
        "arg('--cos-lr', action='store_true', help='cosine LR scheduler')\n",
        "arg('--label-smoothing', type=float, default=0.0, help='Label smoothing epsilon')\n",
        "arg('--patience', type=int, default=100, help='EarlyStopping patience (epochs without improvement)')\n",
        "arg('--freeze', nargs='+', type=int, default=[0], help='Freeze layers: backbone=10, first3=0 1 2')\n",
        "arg('--save-period', type=int, default=-1, help='Save checkpoint every x epochs (disabled if < 1)')\n",
        "arg('--local_rank', type=int, default=-1, help='DDP parameter, do not modify')\n",
        "\n",
        "# Weights & Biases arguments\n",
        "arg('--entity', default=None, help='W&B: Entity')\n",
        "arg('--upload_dataset', nargs='?', const=True, default=False, help='W&B: Upload data, \"val\" option')\n",
        "arg('--bbox_interval', type=int, default=-1, help='W&B: Set bounding-box image logging interval')\n",
        "arg('--artifact_alias', type=str, default='latest', help='W&B: Version of dataset artifact to use')\n",
        "```"
      ]
    },
    {
      "cell_type": "markdown",
      "metadata": {
        "id": "3-ZiwyHu8gKl"
      },
      "source": [
        "# Train"
      ]
    },
    {
      "cell_type": "code",
      "execution_count": null,
      "metadata": {
        "cellView": "form",
        "id": "JwCXa04x7Cu_"
      },
      "outputs": [],
      "source": [
        "EPOCHS = 30 #@param {type:\"integer\"}\n",
        "BATCH_SIZE = 16 #@param {type:\"integer\"}\n",
        "PRETRAINED_WEIGHTS='best.pt'"
      ]
    },
    {
      "cell_type": "code",
      "execution_count": null,
      "metadata": {
        "cellView": "form",
        "id": "yunUootj7JqZ"
      },
      "outputs": [],
      "source": [
        "# If your training was interrupted for any reason you may continue where you \\\n",
        "# left off using the --resume argument. If your training fully completed, \\\n",
        "# you can start a new training from any model using the --weights argument.\n",
        "\n",
        "! python yolov5/train.py --img-size 768 --batch $BATCH_SIZE --epochs $EPOCHS \\\n",
        "    --data \"dataset_config.yml\"  --weights $PRETRAINED_WEIGHTS"
      ]
    },
    {
      "cell_type": "markdown",
      "metadata": {
        "id": "HTpWX7vE8kFb"
      },
      "source": [
        "# Add metdata\n",
        "\n",
        "- Click on the run link in the output above.  Paste the run path in the input field, then run the cell."
      ]
    },
    {
      "cell_type": "code",
      "execution_count": null,
      "metadata": {
        "cellView": "form",
        "id": "aYPqnDFRbuEd"
      },
      "outputs": [],
      "source": [
        "import json\n",
        "import os\n",
        "import platform\n",
        "\n",
        "import torch\n",
        "import torchvision\n",
        "import wandb\n",
        "\n",
        "api = wandb.Api()\n",
        "\n",
        "#@markdown **Run path** `<entity>/<project>/<run_id>`\n",
        "run_path = '' #@param {type: 'string'}\n",
        "#@markdown ![run_path](https://d.aibird.me/41a26c3b.png)\n",
        "\n",
        "! cp \"/content/BirdFSD-YOLOv5/dataset-YOLO/classes.txt\" .\n",
        "\n",
        "run = api.run(run_path)\n",
        "run.upload_file(\"classes.txt\")\n",
        "\n",
        "torch_version = torch.__version__\n",
        "torchvision_version = torchvision.__version__\n",
        "python_version = platform.python_version()\n",
        "cuda_version = os.popen('nvcc --version | grep release').read().split(', ')[1].split('release ')[1]\n",
        "\n",
        "version = {'python': python_version, 'cuda': cuda_version,\n",
        "           'torch': torch_version, 'torchvision': torchvision_version}\n",
        "\n",
        "run.config.update({'base_ml_framework': version})\n",
        "run.update()"
      ]
    },
    {
      "cell_type": "markdown",
      "metadata": {
        "id": "5Zj2fURA6CBO"
      },
      "source": [
        "# Last steps"
      ]
    },
    {
      "cell_type": "markdown",
      "metadata": {
        "id": "joNL0gW85Yad"
      },
      "source": [
        "1. Upload the downloaded weights, then replace the weights link in the first cell with the new link.\n",
        "2. Clear the `run_path` and `passphrase` fields.\n",
        "3. Clear the output: `Edit` -> `Clear all output`."
      ]
    }
  ],
  "metadata": {
    "accelerator": "GPU",
    "colab": {
      "collapsed_sections": [
        "YtlqcNEv8d06"
      ],
      "name": "BirdFSD-YOLOv5_train.ipynb",
      "provenance": []
    },
    "kernelspec": {
      "display_name": "Python 3",
      "name": "python3"
    },
    "language_info": {
      "name": "python"
    }
  },
  "nbformat": 4,
  "nbformat_minor": 0
}

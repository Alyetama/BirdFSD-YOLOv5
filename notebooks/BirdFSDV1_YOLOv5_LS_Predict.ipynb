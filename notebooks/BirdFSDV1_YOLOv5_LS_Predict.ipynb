{
  "cells": [
    {
      "cell_type": "markdown",
      "metadata": {
        "id": "view-in-github",
        "colab_type": "text"
      },
      "source": [
        "<a href=\"https://colab.research.google.com/github/bird-feeder/BirdFSD-YOLOv5/blob/main/notebooks/BirdFSDV1_YOLOv5_LS_Predict.ipynb\" target=\"_parent\"><img src=\"https://colab.research.google.com/assets/colab-badge.svg\" alt=\"Open In Colab\"/></a>"
      ]
    },
    {
      "cell_type": "markdown",
      "metadata": {
        "id": "5cuRcRCgNOmH"
      },
      "source": [
        "## Setup"
      ]
    },
    {
      "cell_type": "code",
      "execution_count": null,
      "metadata": {
        "id": "v0Dga8pqNOmI"
      },
      "outputs": [],
      "source": [
        "! rm -rf /root/.cache\n",
        "\n",
        "! git clone https://github.com/bird-feeder/BirdFSD-YOLOv5.git\n",
        "%cd BirdFSD-YOLOv5\n",
        "\n",
        "! pip -q install -r requirements.txt\n",
        "! pip -q install \"PyYAML>=5.3.1\" wandb\n",
        "\n",
        "! mkdir ultralytics\n",
        "! git clone https://github.com/ultralytics/yolov5.git ultralytics/yolov5"
      ]
    },
    {
      "cell_type": "markdown",
      "metadata": {
        "id": "VEWpOVJrpEOa"
      },
      "source": [
        "**Send the `.env` file to the notebook:**\n",
        "\n",
        "- Using [`Croc`](https://github.com/schollz/croc):\n",
        "\n",
        "  - Run the following command from the root folder where `BirdFSD-YOLOv5` is cloned:\n",
        "\n",
        "    ```shell\n",
        "    croc send \"BirdFSD-YOLOv5/.env\"\n",
        "    ```\n",
        "\n",
        "  - Copy the passphrase part and paste it in the cell input below.\n",
        "\n",
        "- If not using `Croc`:\n",
        "  - Drag and drop the `.env` file inside `BirdFSD-YOLOv5` in this notebook and skip the next cell."
      ]
    },
    {
      "cell_type": "code",
      "execution_count": null,
      "metadata": {
        "cellView": "form",
        "id": "jl_qyNpmp6Et"
      },
      "outputs": [],
      "source": [
        "PASSPHRASE = '' #@param {type:\"string\"}\n",
        "if not PASSPHRASE:\n",
        "    raise Exception('Paste the passphrase in the input bar!')\n",
        "if 'croc' in PASSPHRASE:\n",
        "    PASSPHRASE = PASSPHRASE.split('croc ')[1]\n",
        "\n",
        "! curl https://getcroc.schollz.com | bash\n",
        "\n",
        "! croc --yes $PASSPHRASE\n",
        "\n",
        "print('\\n>>>> Clear the passphrase input field!')"
      ]
    },
    {
      "cell_type": "markdown",
      "metadata": {
        "id": "miY6XpOcNOmK"
      },
      "source": [
        "## Download model weights"
      ]
    },
    {
      "cell_type": "code",
      "execution_count": null,
      "metadata": {
        "id": "COLfB1wvNOmK"
      },
      "outputs": [],
      "source": [
        "! python model_utils/download_weights.py --model-version latest --output 'best.pt'"
      ]
    },
    {
      "cell_type": "markdown",
      "metadata": {
        "id": "sLNKu384NOmK"
      },
      "source": [
        "## Predict"
      ]
    },
    {
      "cell_type": "code",
      "execution_count": null,
      "metadata": {
        "id": "zn46Z9VTNOmK",
        "outputId": "e19239f3-f388-4b22-ab5d-38b38c320ac2"
      },
      "outputs": [
        {
          "name": "stdout",
          "output_type": "stream",
          "text": [
            "usage: predict.py [-h] [-w WEIGHTS] -v MODEL_VERSION -p PROJECT_ID\n",
            "                  [-r TASKS_RANGE] [-a] [-t ONE_TASK] [-m]\n",
            "                  [--get-tasks-with-api] [-D] [-L IF_EMPTY_APPLY_LABEL] [-d]\n",
            "\n",
            "optional arguments:\n",
            "  -h, --help            show this help message and exit\n",
            "  -w WEIGHTS, --weights WEIGHTS\n",
            "                        Path to the model weights\n",
            "  -v MODEL_VERSION, --model-version MODEL_VERSION\n",
            "                        Name of the model version\n",
            "  -p PROJECT_ID, --project-id PROJECT_ID\n",
            "                        Label-studio project id\n",
            "  -r TASKS_RANGE, --tasks-range TASKS_RANGE\n",
            "                        Comma-separated range of task ids (e.g., \"10,18\")\n",
            "  -a, --predict-all     Predict all tasks even if predictions exist\n",
            "  -t ONE_TASK, --one-task ONE_TASK\n",
            "                        Predict a single task\n",
            "  -m, --multithreading  Enable multithreading\n",
            "  --get-tasks-with-api  Use label-studio API to get tasks data\n",
            "  -D, --delete-if-no-predictions\n",
            "                        Delete tasks where the model could not predict\n",
            "                        anything\n",
            "  -L IF_EMPTY_APPLY_LABEL, --if-empty-apply-label IF_EMPTY_APPLY_LABEL\n",
            "                        Label to apply for tasks where the model could not\n",
            "                        predict anything\n",
            "  -d, --debug           Run in debug mode (runs on one task)\n",
            "\u001b[0m"
          ]
        }
      ],
      "source": [
        "! python predict.py -h"
      ]
    },
    {
      "cell_type": "code",
      "execution_count": null,
      "metadata": {
        "id": "x5nfRn24uqox"
      },
      "outputs": [],
      "source": [
        "%%bash\n",
        "\n",
        "LABEL_STUDIO_PROJECT_ID=  #required\n",
        "MODEL_VERSION=  #required\n",
        "\n",
        "python ../predict.py --weights 'best.pt' --project-id $LABEL_STUDIO_PROJECT_ID --model-version $MODEL_VERSION --if-empty-apply-label 'background' --predict-all --multithreading"
      ]
    }
  ],
  "metadata": {
    "accelerator": "GPU",
    "colab": {
      "collapsed_sections": [],
      "name": "Copy of BirdFSDV1-YOLOv5-LS-Predict.ipynb",
      "provenance": [],
      "include_colab_link": true
    },
    "kernelspec": {
      "display_name": "Python 3",
      "name": "python3"
    },
    "language_info": {
      "codemirror_mode": {
        "name": "ipython",
        "version": 3
      },
      "file_extension": ".py",
      "mimetype": "text/x-python",
      "name": "python",
      "nbconvert_exporter": "python",
      "pygments_lexer": "ipython3",
      "version": "3.9.10"
    }
  },
  "nbformat": 4,
  "nbformat_minor": 0
}
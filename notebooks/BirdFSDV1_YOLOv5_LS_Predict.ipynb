{
  "cells": [
    {
      "cell_type": "code",
      "execution_count": null,
      "metadata": {
        "cellView": "form",
        "id": "0vXtjujFnwgh"
      },
      "outputs": [],
      "source": [
        "#-----------------------------------------------------\n",
        "# @markdown #### `Required fields:`\n",
        "project_id = 1  # @param {type: 'integer'}\n",
        "model_version = ''  # @param {type: 'string'}\n",
        "#-----------------------------------------------------\n",
        "#@markdown #### `Optional fields:`\n",
        "tasks_range = ''  # @param {type: 'string'}\n",
        "#@markdown > **Usage:** If you specify a `task_range`, \\\n",
        "#the model will only predict tasks within that range. \\\n",
        "#**Example usage:** `20000,21000`. **Default:** \\\n",
        "#leave empty.\n",
        "predict_all = False  # @param {type: 'boolean'}\n",
        "#@markdown > **Usage:** If you check this box, \\\n",
        "#the model will predict **ALL** the tasks in the \\\n",
        "#project. **Default:** False (unchecked).\n",
        "debug = False  # @param #@param {type: 'boolean'}\n",
        "one_task = False  # integer\n",
        "multithreading = True  # @param {type: 'boolean'}\n",
        "delete_if_no_predictions = False  # @param {type: 'boolean'}\n",
        "if_empty_apply_label = 'no animal'  # @param {type: 'string'}\n"
      ]
    },
    {
      "cell_type": "markdown",
      "metadata": {
        "id": "VEWpOVJrpEOa"
      },
      "source": [
        "**Run this command on the local server:**\n",
        "\n",
        "\n",
        "```shell\n",
        "croc send \"BirdFSD-YOLOv5/.env\"\n",
        "```\n",
        "\n",
        "- Copy the passphrase part and paste it in the cell input below.\n"
      ]
    },
    {
      "cell_type": "code",
      "execution_count": null,
      "metadata": {
        "cellView": "form",
        "id": "jl_qyNpmp6Et"
      },
      "outputs": [],
      "source": [
        "! rm -rf /root/.cache\n",
        "\n",
        "! git clone --quiet https://github.com/bird-feeder/BirdFSD-YOLOv5.git\n",
        "%cd BirdFSD-YOLOv5\n",
        "! pip -q install -r requirements.txt > /dev/null 2>&1\n",
        "! pip -q install \"PyYAML>=5.3.1\" wandb > /dev/null 2>&1\n",
        "\n",
        "! curl https://getcroc.schollz.com | bash > /dev/null 2>&1\n",
        "\n",
        "PASSPHRASE = '' #@param {type:\"string\"}\n",
        "if not PASSPHRASE:\n",
        "    raise Exception('Paste the passphrase in the input bar!')\n",
        "if 'croc' in PASSPHRASE:\n",
        "    PASSPHRASE = PASSPHRASE.split('croc ')[1]\n",
        "\n",
        "! croc --yes $PASSPHRASE > /dev/null 2>&1\n",
        "\n",
        "! mkdir ultralytics\n",
        "! git clone --quiet https://github.com/ultralytics/yolov5.git ultralytics/yolov5\n",
        "\n",
        "print('\\n>>>> Clear the passphrase input field!')"
      ]
    },
    {
      "cell_type": "markdown",
      "metadata": {},
      "source": [
        "## Download model weights"
      ]
    },
    {
      "cell_type": "code",
      "execution_count": null,
      "metadata": {},
      "outputs": [],
      "source": [
        "! python model_utils/download_weights.py -v latest"
      ]
    },
    {
      "cell_type": "markdown",
      "metadata": {},
      "source": [
        "## Predict"
      ]
    },
    {
      "cell_type": "code",
      "execution_count": null,
      "metadata": {
        "id": "x5nfRn24uqox"
      },
      "outputs": [],
      "source": [
        "import os\n",
        "\n",
        "from dotenv import load_dotenv\n",
        "\n",
        "from predict import Predict\n",
        "from model_utils.mongodb_helper import get_tasks_from_mongodb\n",
        "\n",
        "load_dotenv()\n",
        "\n",
        "get_tasks_from_mongodb(project_id)\n",
        "\n",
        "predict = Predict(weights, project_id, tasks_range, predict_all, one_task,\n",
        "                  model_version, multithreading, delete_if_no_predictions,\n",
        "                  if_empty_apply_label, debug)\n",
        "\n",
        "try:\n",
        "    predict.apply_predictions()\n",
        "    print('\\n\\nFinished successfully!')\n",
        "    print('Clear model version input field.')\n",
        "    print('Clear the output: `Edit` -> `Clear all outputs`.')\n",
        "except KeyboardInterrupt:\n",
        "    print('Interrupted...')\n",
        "finally:\n",
        "    os.remove('tasks.json')\n"
      ]
    }
  ],
  "metadata": {
    "accelerator": "GPU",
    "colab": {
      "collapsed_sections": [],
      "name": "Copy of BirdFSDV1-YOLOv5-LS-Predict.ipynb",
      "provenance": []
    },
    "kernelspec": {
      "display_name": "Python 3",
      "name": "python3"
    },
    "language_info": {
      "name": "python",
      "version": "3.8.12"
    }
  },
  "nbformat": 4,
  "nbformat_minor": 0
}

{
 "cells": [
  {
   "cell_type": "markdown",
   "metadata": {
    "colab_type": "text",
    "id": "view-in-github",
    "pycharm": {
     "name": "#%% md\n"
    }
   },
   "source": [
    "<a href=\"https://colab.research.google.com/github/bird-feeder/BirdFSD-YOLOv5/blob/main/notebooks/BirdFSDV1_YOLOv5_LS_Predict.ipynb\" target=\"_parent\"><img src=\"https://colab.research.google.com/assets/colab-badge.svg\" alt=\"Open In Colab\"/></a>"
   ]
  },
  {
   "cell_type": "markdown",
   "metadata": {
    "id": "5cuRcRCgNOmH",
    "pycharm": {
     "name": "#%% md\n"
    }
   },
   "source": [
    "## Setup"
   ]
  },
  {
   "cell_type": "code",
   "execution_count": null,
   "metadata": {},
   "outputs": [],
   "source": [
    "! wget -q 'https://github.com/conda-forge/miniforge/releases/latest/download/Miniforge3-Linux-x86_64.sh'\n",
    "! bash \"Miniforge3-Linux-x86_64.sh\" -b -p"
   ]
  },
  {
   "cell_type": "code",
   "execution_count": null,
   "metadata": {
    "id": "v0Dga8pqNOmI",
    "pycharm": {
     "name": "#%%\n"
    }
   },
   "outputs": [],
   "source": [
    "! rm -rf /root/.cache\n",
    "\n",
    "! git clone https://github.com/bird-feeder/BirdFSD-YOLOv5.git\n",
    "\n",
    "import shutil\n",
    "from pathlib import Path\n",
    "if Path('.env').exists():\n",
    "    shutil.move('.env', '/content/BirdFSD-YOLOv5/.env')\n",
    "elif Path('secrets.txt').exists():\n",
    "    shutil.move('secrets.txt', '/content/BirdFSD-YOLOv5/.env')\n",
    "\n",
    "\n",
    "%cd /content/BirdFSD-YOLOv5\n",
    "\n",
    "! /root/miniforge3/bin/python -m pip install -e .\n",
    "! /root/miniforge3/bin/pip install -r requirements.txt\n",
    "\n",
    "! mkdir ultralytics\n",
    "! git clone https://github.com/ultralytics/yolov5.git ultralytics/yolov5"
   ]
  },
  {
   "cell_type": "markdown",
   "metadata": {
    "id": "VEWpOVJrpEOa",
    "pycharm": {
     "name": "#%% md\n"
    }
   },
   "source": [
    "**Send the `.env` file to the notebook:**\n",
    "\n",
    "- Using [`Croc`](https://github.com/schollz/croc):\n",
    "\n",
    "  - Run the following command from the root folder where `BirdFSD-YOLOv5` is cloned:\n",
    "\n",
    "    ```shell\n",
    "    croc send \"BirdFSD-YOLOv5/.env\"\n",
    "    ```\n",
    "\n",
    "  - Copy the passphrase part and paste it in the cell input below.\n",
    "\n",
    "- If not using `Croc`:\n",
    "  - Drag and drop the `.env` file inside the `BirdFSD-YOLOv5` directory in this notebook, and skip the next cell."
   ]
  },
  {
   "cell_type": "code",
   "execution_count": null,
   "metadata": {
    "cellView": "form",
    "id": "jl_qyNpmp6Et",
    "pycharm": {
     "name": "#%%\n"
    }
   },
   "outputs": [],
   "source": [
    "PASSPHRASE = '' #@param {type:\"string\"}\n",
    "if not PASSPHRASE:\n",
    "    raise Exception('Paste the passphrase in the input bar!')\n",
    "if 'croc' in PASSPHRASE:\n",
    "    PASSPHRASE = PASSPHRASE.split('croc ')[1]\n",
    "\n",
    "! curl https://getcroc.schollz.com | bash\n",
    "\n",
    "! croc --yes $PASSPHRASE\n",
    "\n",
    "print('\\n>>>> Clear the passphrase input field!')"
   ]
  },
  {
   "cell_type": "markdown",
   "metadata": {
    "id": "miY6XpOcNOmK",
    "pycharm": {
     "name": "#%% md\n"
    }
   },
   "source": [
    "## Download Model Weights"
   ]
  },
  {
   "cell_type": "code",
   "execution_count": null,
   "metadata": {
    "id": "COLfB1wvNOmK",
    "pycharm": {
     "is_executing": true,
     "name": "#%%\n"
    }
   },
   "outputs": [],
   "source": [
    "! /root/miniforge3/bin/python birdfsd_yolov5/model_utils/download_weights.py --model-version latest --output 'best.pt'"
   ]
  },
  {
   "cell_type": "markdown",
   "metadata": {
    "id": "sLNKu384NOmK",
    "pycharm": {
     "name": "#%% md\n"
    }
   },
   "source": [
    "## Predict"
   ]
  },
  {
   "cell_type": "code",
   "execution_count": 15,
   "metadata": {
    "id": "zn46Z9VTNOmK",
    "outputId": "e19239f3-f388-4b22-ab5d-38b38c320ac2",
    "pycharm": {
     "name": "#%%\n"
    }
   },
   "outputs": [
    {
     "name": "stdout",
     "output_type": "stream",
     "text": [
      "usage: predict.py [-h] [-w WEIGHTS] -v MODEL_VERSION [-p PROJECT_IDS]\r\n",
      "                  [-r TASKS_RANGE] [-a] [-t ONE_TASK] [-m]\r\n",
      "                  [--get-tasks-with-api] [-D] [-L IF_EMPTY_APPLY_LABEL] [-d]\r\n",
      "                  [-V]\r\n",
      "\r\n",
      "optional arguments:\r\n",
      "  -h, --help            show this help message and exit\r\n",
      "  -w WEIGHTS, --weights WEIGHTS\r\n",
      "                        Path to the model weights\r\n",
      "  -v MODEL_VERSION, --model-version MODEL_VERSION\r\n",
      "                        Name of the model version\r\n",
      "  -p PROJECT_IDS, --project-ids PROJECT_IDS\r\n",
      "                        Comma-seperated project ids. If empty, it will select\r\n",
      "                        all projects\r\n",
      "  -r TASKS_RANGE, --tasks-range TASKS_RANGE\r\n",
      "                        Comma-separated range of task ids (e.g., \"10,18\")\r\n",
      "  -a, --predict-all     Predict all tasks even if predictions exist\r\n",
      "  -t ONE_TASK, --one-task ONE_TASK\r\n",
      "                        Predict a single task\r\n",
      "  -m, --multithreading  Enable multithreading\r\n",
      "  --get-tasks-with-api  Use label-studio API to get tasks data\r\n",
      "  -D, --delete-if-no-predictions\r\n",
      "                        Delete tasks where the model could not predict\r\n",
      "                        anything\r\n",
      "  -L IF_EMPTY_APPLY_LABEL, --if-empty-apply-label IF_EMPTY_APPLY_LABEL\r\n",
      "                        Label to apply for tasks where the model could not\r\n",
      "                        predict anything\r\n",
      "  -d, --debug           Run in debug mode (runs on one task)\r\n",
      "  -V, --verbose         Log additional details\r\n",
      "\u001b[0m"
     ]
    }
   ],
   "source": [
    "! /root/miniforge3/bin/python birdfsd_yolov5/prediction/predict.py -h"
   ]
  },
  {
   "cell_type": "code",
   "execution_count": null,
   "metadata": {
    "collapsed": false,
    "pycharm": {
     "is_executing": true,
     "name": "#%%\n"
    }
   },
   "outputs": [],
   "source": [
    "#@markdown `MODEL_VERSION` is required!\n",
    "MODEL_VERSION = '' #@param {'type': 'string'}\n",
    "#@markdown Leave `LS_PROJECT_IDS` empty to select all projects.\n",
    "LS_PROJECT_IDS = '' #@param {'type': 'string'}\n",
    "\n",
    "if not MODEL_VERSION:\n",
    "    raise Exception('You need to specify a model version!')\n",
    "\n",
    "! /root/miniforge3/bin/python birdfsd_yolov5/prediction/predict.py \\\n",
    "    --weights 'best.pt' \\\n",
    "    --project-id \"$LS_PROJECT_IDS\" \\\n",
    "    --model-version \"$MODEL_VERSION\" \\\n",
    "    --if-empty-apply-label 'background' \\\n",
    "    --predict-all \\\n",
    "    --multithreading"
   ]
  }
 ],
 "metadata": {
  "accelerator": "GPU",
  "colab": {
   "collapsed_sections": [],
   "include_colab_link": true,
   "name": "Copy of BirdFSDV1-YOLOv5-LS-Predict.ipynb",
   "provenance": []
  },
  "kernelspec": {
   "display_name": "base",
   "language": "python",
   "name": "base"
  },
  "language_info": {
   "codemirror_mode": {
    "name": "ipython",
    "version": 3
   },
   "file_extension": ".py",
   "mimetype": "text/x-python",
   "name": "python",
   "nbconvert_exporter": "python",
   "pygments_lexer": "ipython3",
   "version": "3.9.10"
  }
 },
 "nbformat": 4,
 "nbformat_minor": 0
}

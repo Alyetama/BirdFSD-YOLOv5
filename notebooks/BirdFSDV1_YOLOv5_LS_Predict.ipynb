{
 "cells": [
  {
   "cell_type": "markdown",
   "metadata": {
    "colab_type": "text",
    "id": "view-in-github",
    "pycharm": {
     "name": "#%% md\n"
    }
   },
   "source": [
    "<a href=\"https://colab.research.google.com/github/bird-feeder/BirdFSD-YOLOv5/blob/main/notebooks/BirdFSDV1_YOLOv5_LS_Predict.ipynb\" target=\"_parent\"><img src=\"https://colab.research.google.com/assets/colab-badge.svg\" alt=\"Open In Colab\"/></a>"
   ]
  },
  {
   "cell_type": "markdown",
   "metadata": {
    "id": "5cuRcRCgNOmH",
    "pycharm": {
     "name": "#%% md\n"
    }
   },
   "source": [
    "## Setup"
   ]
  },
  {
   "cell_type": "markdown",
   "metadata": {},
   "source": [
    "- Drag and drop your `.env` (or `secrets.txt`) file to the files section of this notebook."
   ]
  },
  {
   "cell_type": "code",
   "execution_count": null,
   "metadata": {
    "id": "v0Dga8pqNOmI",
    "pycharm": {
     "name": "#%%\n"
    }
   },
   "outputs": [],
   "source": [
    "! git clone https://github.com/bird-feeder/BirdFSD-YOLOv5.git\n",
    "\n",
    "import shutil\n",
    "from pathlib import Path\n",
    "if Path('.env').exists():\n",
    "    shutil.move('.env', 'BirdFSD-YOLOv5/.env')\n",
    "elif Path('secrets.txt').exists():\n",
    "    shutil.move('secrets.txt', 'BirdFSD-YOLOv5/.env')\n",
    "\n",
    "%cd /content/BirdFSD-YOLOv5\n",
    "! pip -q install -r notebooks/requirements_colab.txt\n",
    "\n",
    "! git clone https://github.com/ultralytics/yolov5.git"
   ]
  },
  {
   "cell_type": "code",
   "execution_count": null,
   "metadata": {},
   "outputs": [],
   "source": [
    "! poetry build\n",
    "! pip install dist/*.whl"
   ]
  },
  {
   "cell_type": "code",
   "execution_count": null,
   "metadata": {
    "cellView": "form",
    "id": "jl_qyNpmp6Et",
    "pycharm": {
     "name": "#%%\n"
    }
   },
   "outputs": [],
   "source": [
    "#@title Login to W&B\n",
    "! wandb login"
   ]
  },
  {
   "cell_type": "markdown",
   "metadata": {
    "id": "miY6XpOcNOmK",
    "pycharm": {
     "name": "#%% md\n"
    }
   },
   "source": [
    "## Download Model Weights"
   ]
  },
  {
   "cell_type": "code",
   "execution_count": null,
   "metadata": {
    "id": "COLfB1wvNOmK",
    "pycharm": {
     "is_executing": true,
     "name": "#%%\n"
    }
   },
   "outputs": [],
   "source": [
    "! python birdfsd_yolov5/model_utils/download_weights.py --model-version latest --output 'best.pt'"
   ]
  },
  {
   "cell_type": "markdown",
   "metadata": {
    "id": "sLNKu384NOmK",
    "pycharm": {
     "name": "#%% md\n"
    }
   },
   "source": [
    "## Predict"
   ]
  },
  {
   "cell_type": "code",
   "execution_count": 3,
   "metadata": {
    "id": "zn46Z9VTNOmK",
    "outputId": "e19239f3-f388-4b22-ab5d-38b38c320ac2",
    "pycharm": {
     "name": "#%%\n"
    }
   },
   "outputs": [
    {
     "name": "stdout",
     "output_type": "stream",
     "text": [
      "usage: predict.py [-h] [-w WEIGHTS] -v MODEL_VERSION [-p PROJECT_IDS]\n",
      "                  [-r TASKS_RANGE] [-a] [-t ONE_TASK] [-m]\n",
      "                  [--get-tasks-with-api] [-D] [-L IF_EMPTY_APPLY_LABEL] [-d]\n",
      "                  [-V]\n",
      "\n",
      "optional arguments:\n",
      "  -h, --help            show this help message and exit\n",
      "  -w WEIGHTS, --weights WEIGHTS\n",
      "                        Path to the model weights\n",
      "  -v MODEL_VERSION, --model-version MODEL_VERSION\n",
      "                        Model version including its name [*-vX.Y.Z*]\n",
      "  -p PROJECT_IDS, --project-ids PROJECT_IDS\n",
      "                        Comma-seperated project ids. If empty, it will select\n",
      "                        all projects\n",
      "  -r TASKS_RANGE, --tasks-range TASKS_RANGE\n",
      "                        Comma-separated range of task ids (e.g., \"10,18\")\n",
      "  -a, --predict-all     Predict all tasks even if predictions exist\n",
      "  -t ONE_TASK, --one-task ONE_TASK\n",
      "                        Predict a single task\n",
      "  -m, --multithreading  Enable multithreading\n",
      "  --get-tasks-with-api  Use label-studio API to get tasks data\n",
      "  -D, --delete-if-no-predictions\n",
      "                        Delete tasks where the model could not predict\n",
      "                        anything\n",
      "  -L IF_EMPTY_APPLY_LABEL, --if-empty-apply-label IF_EMPTY_APPLY_LABEL\n",
      "                        Label to apply for tasks where the model could not\n",
      "                        predict anything\n",
      "  -d, --debug           Run in debug mode (runs on one task)\n",
      "  -V, --verbose         Log additional details\n",
      "\u001b[0m"
     ]
    }
   ],
   "source": [
    "! python birdfsd_yolov5/prediction/predict.py -h"
   ]
  },
  {
   "cell_type": "code",
   "execution_count": null,
   "metadata": {
    "collapsed": false,
    "pycharm": {
     "is_executing": true,
     "name": "#%%\n"
    }
   },
   "outputs": [],
   "source": [
    "#@markdown `MODEL_VERSION` is required!\n",
    "MODEL_VERSION = '' #@param {'type': 'string'}\n",
    "#@markdown Leave `LS_PROJECT_IDS` empty to select all projects.\n",
    "LS_PROJECT_IDS = '' #@param {'type': 'string'}\n",
    "BACKGROUND_LABEL = 'Background' #@param {'type': 'string'}\n",
    "\n",
    "if not MODEL_VERSION:\n",
    "    raise Exception('You need to specify a model version!')\n",
    "\n",
    "! /root/miniforge3/bin/python birdfsd_yolov5/prediction/predict.py \\\n",
    "    --weights 'best.pt' \\\n",
    "    --project-ids \"$LS_PROJECT_IDS\" \\\n",
    "    --model-version \"$MODEL_VERSION\" \\\n",
    "    --if-empty-apply-label 'Background' \\\n",
    "    --predict-all \\\n",
    "    --multithreading \\ \n",
    "    --get-tasks-with-api"
   ]
  }
 ],
 "metadata": {
  "accelerator": "GPU",
  "colab": {
   "collapsed_sections": [],
   "include_colab_link": true,
   "name": "Copy of BirdFSDV1-YOLOv5-LS-Predict.ipynb",
   "provenance": []
  },
  "kernelspec": {
   "display_name": "base",
   "language": "python",
   "name": "base"
  },
  "language_info": {
   "codemirror_mode": {
    "name": "ipython",
    "version": 3
   },
   "file_extension": ".py",
   "mimetype": "text/x-python",
   "name": "python",
   "nbconvert_exporter": "python",
   "pygments_lexer": "ipython3",
   "version": "3.9.10"
  }
 },
 "nbformat": 4,
 "nbformat_minor": 0
}

{
  "nbformat": 4,
  "nbformat_minor": 0,
  "metadata": {
    "colab": {
      "name": "YOLOv5_colab_pipeline.ipynb",
      "provenance": [],
      "collapsed_sections": []
    },
    "kernelspec": {
      "name": "python3",
      "display_name": "Python 3"
    },
    "language_info": {
      "name": "python"
    },
    "accelerator": "GPU"
  },
  "cells": [
    {
      "cell_type": "markdown",
      "source": [
        "# Before running the pipeline, change:\n",
        "## `Runtime` -->  `Change runtime type` --> `GPU`"
      ],
      "metadata": {
        "id": "6B9kWixDiVkV"
      }
    },
    {
      "cell_type": "code",
      "source": [
        "#@title Links that are subject to updates\n",
        "\n",
        "WEIGHTS=\"https://d.aibird.me/8fdadb26.pt\"\n",
        "CLASSES=\"https://d.aibird.me/83b3976c.txt\""
      ],
      "metadata": {
        "id": "WQDaH4Qoq4Th"
      },
      "execution_count": null,
      "outputs": []
    },
    {
      "cell_type": "code",
      "source": [
        "%%shell\n",
        "sudo apt -qq update\n",
        "sudo apt -qq install ffmpeg libsm6 libxext6  -y\n",
        "curl https://getcroc.schollz.com | bash"
      ],
      "metadata": {
        "id": "O1ntw3_cdY3c"
      },
      "execution_count": null,
      "outputs": []
    },
    {
      "cell_type": "code",
      "source": [
        "%%shell\n",
        "wget -q https://downloads.rclone.org/v1.58.0/rclone-v1.58.0-linux-amd64.zip\n",
        "unzip rclone-v1.58.0-linux-amd64.zip\n",
        "mv rclone-v1.58.0-linux-amd64/rclone ."
      ],
      "metadata": {
        "id": "QNHOTmkUdi5F"
      },
      "execution_count": null,
      "outputs": []
    },
    {
      "cell_type": "code",
      "source": [
        "from google.colab import output\n",
        "\n",
        "def noti():\n",
        "    output.eval_js(\n",
        "        'new Audio(\"https://upload.wikimedia.org/wikipedia/commons/0/05/Beep-09.ogg\").play()')\n"
      ],
      "metadata": {
        "id": "CyrvtKuh7y_c"
      },
      "execution_count": null,
      "outputs": []
    },
    {
      "cell_type": "markdown",
      "source": [
        "## Run this command on your personal laptop:\n",
        "\n",
        "\n",
        "`croc send /Users/bdschol10/.config/rclone/rclone.conf`\n",
        "\n",
        "#### Copy the passphrase part and paste it in the cell input below.\n"
      ],
      "metadata": {
        "id": "CvVUB31mfUqT"
      }
    },
    {
      "cell_type": "code",
      "source": [
        "PASSPHRASE = '' #@param {type:\"string\"}\n",
        "if not PASSPHRASE:\n",
        "    raise Exception('Paste the passphrase in the input bar!')\n",
        "if 'croc' in PASSPHRASE:\n",
        "    PASSPHRASE = PASSPHRASE.split('croc ')[1]\n",
        "\n",
        "! croc --yes $PASSPHRASE"
      ],
      "metadata": {
        "id": "EYf6-M84er90"
      },
      "execution_count": null,
      "outputs": []
    },
    {
      "cell_type": "code",
      "source": [
        "# this step will take a while, it's normal. Check the logs `out.log` if it takes too long.\n",
        "\n",
        "! mkdir \"downloaded_$(date +%m-%d-%Y)\"\n",
        "\n",
        "! ./rclone --drive-shared-with-me copy gdrive:picam \\\n",
        "  \"downloaded_$(date +%m-%d-%Y)\" --config \"rclone.conf\" \\\n",
        "  --transfers 32 -P --stats-one-line >> out.log\n",
        "\n",
        "# <---- The progress is logged to out.log\n",
        "\n",
        "! ./rclone size \"downloaded_$(date +%m-%d-%Y)\"\n",
        "\n",
        "noti()"
      ],
      "metadata": {
        "id": "_pbAHb-sdkYY"
      },
      "execution_count": null,
      "outputs": []
    },
    {
      "cell_type": "code",
      "execution_count": null,
      "metadata": {
        "id": "TweV5zUadUYV"
      },
      "outputs": [],
      "source": [
        "%%shell\n",
        "pip -q install lxml \"PyYAML>=5.3.1\""
      ]
    },
    {
      "cell_type": "code",
      "source": [
        "! git clone https://github.com/ultralytics/yolov5.git\n",
        "! pip -q install -r yolov5/requirements.txt\n",
        "\n",
        "! wget \"$WEIGHTS\" -qO \"weights.pt\""
      ],
      "metadata": {
        "id": "RPL0CsOvhwxn"
      },
      "execution_count": null,
      "outputs": []
    },
    {
      "cell_type": "code",
      "source": [
        "! python yolov5/detect.py --source \"downloaded_$(date +%m-%d-%Y)\" \\\n",
        "--weights \"weights.pt\" --save-txt --save-conf\n",
        "\n",
        "noti()"
      ],
      "metadata": {
        "id": "P5ZpwpWKebgf"
      },
      "execution_count": null,
      "outputs": []
    },
    {
      "cell_type": "code",
      "source": [
        "# this step will take a while, it's normal. Check the logs `move.log` if it takes too long.\n",
        "\n",
        "! ./rclone --drive-shared-with-me move -P --transfers 32 --stats-one-line \\\n",
        "--max-depth 1 --filter \"+ *.jpg\" --filter \"- *\" \\\n",
        "gdrive:\"picam\" gdrive:\"picam-downloaded/downloaded_$(date +%m-%d-%Y)\" >> move.log\n",
        "\n",
        "noti()"
      ],
      "metadata": {
        "id": "73AW01r9gp0M"
      },
      "execution_count": null,
      "outputs": []
    },
    {
      "cell_type": "code",
      "source": [
        "from datetime import date\n",
        "from glob import glob\n",
        "\n",
        "folder = sorted(glob('yolov5/runs/detect/*'))[-1]\n",
        "ts = f'downloaded_{date.today().strftime(\"%m-%d-%Y\")}'"
      ],
      "metadata": {
        "id": "rT5NmyKjlkWV"
      },
      "execution_count": null,
      "outputs": []
    },
    {
      "cell_type": "code",
      "source": [
        "! mkdir $folder/images\n",
        "! mv $folder/*.jpg $folder/images\n",
        "\n",
        "! wget \"$CLASSES\" -qO $folder/classes.txt\n",
        "! wget \"https://d.aibird.me/ab537c0f.py\" -qO \"yolo.py\""
      ],
      "metadata": {
        "id": "vV_JYGTjlztt"
      },
      "execution_count": null,
      "outputs": []
    },
    {
      "cell_type": "code",
      "source": [
        "! cat $folder/classes.txt"
      ],
      "metadata": {
        "id": "KB347P2ZXz77"
      },
      "execution_count": null,
      "outputs": []
    },
    {
      "cell_type": "code",
      "source": [
        "from yolo import convert_yolo_to_ls\n",
        "\n",
        "try:\n",
        "    convert_yolo_to_ls(input_dir=folder, out_file='output.json',\n",
        "        to_name='image', from_name='label', out_type=\"annotations\",\n",
        "        image_root_url=f'https://ls.aibird.me/data/local-files/?d=picam/{ts}/with_detections',\n",
        "        image_ext='.jpg')\n",
        "except AttributeError as e:\n",
        "    raise AttributeError(f'{e}\\n\\nFAILED! RESTART THE RUNTIME!')"
      ],
      "metadata": {
        "id": "Mpc-3yjWmq46"
      },
      "execution_count": null,
      "outputs": []
    },
    {
      "cell_type": "code",
      "source": [
        "from pathlib import Path\n",
        "_detections = sorted(glob(f'{folder}/labels/*'))\n",
        "\n",
        "detections = [f'{Path(x).stem}.jpg\\n' for x in _detections]\n",
        "\n",
        "with open('detections.txt', 'w') as f:\n",
        "    f.writelines(detections)\n",
        "\n",
        "len(detections)"
      ],
      "metadata": {
        "id": "0RASUfIhwbQc"
      },
      "execution_count": null,
      "outputs": []
    },
    {
      "cell_type": "code",
      "source": [
        "! curl -F'file=@detections.txt' https://ttm.sh\n",
        "print('Copy the link!')"
      ],
      "metadata": {
        "id": "gV_zYlFBx1eF"
      },
      "execution_count": null,
      "outputs": []
    },
    {
      "cell_type": "markdown",
      "source": [
        "## <---- Click refresh\n",
        "\n",
        "![refresh](https://d.aibird.me/dc0e384b.png)\n",
        "\n",
        "## <---- Then, download `output.json`\n",
        "\n",
        "![download](https://d.aibird.me/02fc8068.png)\n"
      ],
      "metadata": {
        "id": "HLBzE3yUo97z"
      }
    },
    {
      "cell_type": "code",
      "source": [
        "! rm rclone.conf"
      ],
      "metadata": {
        "id": "kOW0eChPipLS"
      },
      "execution_count": null,
      "outputs": []
    },
    {
      "cell_type": "markdown",
      "source": [
        "## On the local server, run the following commands:\n",
        "\n",
        "```sh\n",
        "cd \"/home/ubuntu/apps/label-studio\"\n",
        "\n",
        "source .env && docker run --rm -v \"$PWD/pg_backups:/backups\" -e POSTGRES_HOST=${_POSTGRES_HOST} -e POSTGRES_DB=${POSTGRE_NAME} -e POSTGRES_USER=${POSTGRE_USER} -e POSTGRES_PASSWORD=${POSTGRE_PASSWORD} prodrigestivill/postgres-backup-local /backup.sh\n",
        "\n",
        "rclone copy pg_backups pg_backups: -P --stats-one-line -L\n",
        "```\n",
        "\n",
        "```sh\n",
        "wget <REPLACE_WITH_COPIED_LINK> -O \"detections.txt\"\n",
        "```\n",
        "\n",
        "\n",
        "```sh\n",
        "NEW_FOLDER_NAME=\"local-files/picam/downloaded_$(date +%m-%d-%Y)\"\n",
        "\n",
        "rclone --drive-shared-with-me copy gdrive:\"picam-downloaded/downloaded_$(date +%m-%d-%Y)\" \"$NEW_FOLDER_NAME\" -P --stats-one-line --transfers 32 --files-from \"detections.txt\"\n",
        "```\n",
        "\n",
        "```sh\n",
        "mkdir $NEW_FOLDER_NAME/with_detections\n",
        "\n",
        "mv $NEW_FOLDER_NAME/*.jpg $NEW_FOLDER_NAME/with_detections\n",
        "```\n"
      ],
      "metadata": {
        "id": "-NWjbCydtbk9"
      }
    },
    {
      "cell_type": "code",
      "source": [
        "! curl -F'file=@output.json' https://ttm.sh\n",
        "print('Copy the link!')"
      ],
      "metadata": {
        "id": "w9VTBlxQaSGH"
      },
      "execution_count": null,
      "outputs": []
    },
    {
      "cell_type": "markdown",
      "source": [
        "## On the local server, run the following commands:\n",
        "\n",
        "## In label studio:\n",
        "\n",
        "- Select \"Today\" view.\n",
        "- Change the date in the `Created at` filter to today's date.\n",
        "- Refresh the tasks.\n",
        "- Sort by ID ascending and descnding and get the first and last number.\n",
        "\n",
        "\n",
        "```sh\n",
        "cd ~/BirdFSD-YOLOv5\n",
        "\n",
        "wget \"<REPLACE_WITH_COPIED_LINK>\" -O \"output.json\"\n",
        "\n",
        "python apply_yolo_predictions.py -f <first_id> -l <last_id> --data \"output.json\"\n",
        "```"
      ],
      "metadata": {
        "id": "V0gTIityaPJB"
      }
    },
    {
      "cell_type": "markdown",
      "source": [
        "## Last step:\n",
        "\n",
        "### Go to `Edit` and click `Clear all ouputs`."
      ],
      "metadata": {
        "id": "kd6oqkVSrPPe"
      }
    }
  ]
}
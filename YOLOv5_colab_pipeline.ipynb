{
  "nbformat": 4,
  "nbformat_minor": 0,
  "metadata": {
    "colab": {
      "name": "YOLOv5_colab_pipeline.ipynb",
      "provenance": [],
      "collapsed_sections": []
    },
    "kernelspec": {
      "name": "python3",
      "display_name": "Python 3"
    },
    "language_info": {
      "name": "python"
    }
  },
  "cells": [
    {
      "cell_type": "markdown",
      "source": [
        "# Before running the pipeline, change:\n",
        "## `Runtime` -->  `Change runtime type` --> `GPU`"
      ],
      "metadata": {
        "id": "6B9kWixDiVkV"
      }
    },
    {
      "cell_type": "code",
      "source": [
        "#@title Links that are subject to updates\n",
        "\n",
        "WEIGHTS=\"https://d.aibird.me/8fdadb26.pt\"\n",
        "CLASSES=\"https://d.aibird.me/83b3976c.txt\""
      ],
      "metadata": {
        "id": "WQDaH4Qoq4Th"
      },
      "execution_count": null,
      "outputs": []
    },
    {
      "cell_type": "code",
      "source": [
        "%%shell\n",
        "sudo apt -qq update\n",
        "sudo apt -qq install ffmpeg libsm6 libxext6  -y"
      ],
      "metadata": {
        "id": "O1ntw3_cdY3c"
      },
      "execution_count": null,
      "outputs": []
    },
    {
      "cell_type": "code",
      "source": [
        "%%shell\n",
        "wget -q https://downloads.rclone.org/v1.58.0/rclone-v1.58.0-linux-amd64.zip\n",
        "unzip rclone-v1.58.0-linux-amd64.zip\n",
        "mv rclone-v1.58.0-linux-amd64/rclone ."
      ],
      "metadata": {
        "id": "QNHOTmkUdi5F"
      },
      "execution_count": null,
      "outputs": []
    },
    {
      "cell_type": "code",
      "source": [
        "from getpass import getpass\n",
        "RCLONE_CONFIG = getpass('Download link from bitwarden: ')"
      ],
      "metadata": {
        "id": "CyrvtKuh7y_c"
      },
      "execution_count": null,
      "outputs": []
    },
    {
      "cell_type": "code",
      "source": [
        "! wget -q \"$RCLONE_CONFIG\" -O rclone.conf.gpg\n",
        "! echo $(python -c \"from getpass import getpass; print(getpass())\") | \\\n",
        "  gpg -d --batch --yes --passphrase-fd 0 rclone.conf.gpg > rclone.conf"
      ],
      "metadata": {
        "id": "pDZY8z46_L7_"
      },
      "execution_count": null,
      "outputs": []
    },
    {
      "cell_type": "code",
      "source": [
        "%%shell\n",
        "mkdir \"downloaded_$(date +%m-%d-%Y)\"\n",
        "\n",
        "./rclone copy gdrive: \"downloaded_$(date +%m-%d-%Y)\" --config \"rclone.conf\" \\\n",
        " --transfers 32 -P >> out.log\n",
        "\n",
        "./rclone size \"downloaded_$(date +%m-%d-%Y)\""
      ],
      "metadata": {
        "id": "_pbAHb-sdkYY"
      },
      "execution_count": null,
      "outputs": []
    },
    {
      "cell_type": "code",
      "execution_count": null,
      "metadata": {
        "id": "TweV5zUadUYV"
      },
      "outputs": [],
      "source": [
        "%%shell\n",
        "pip -q install label_studio_converter lxml Pillow \"PyYAML>=5.3.1\""
      ]
    },
    {
      "cell_type": "code",
      "source": [
        "%%shell\n",
        "git clone https://github.com/ultralytics/yolov5.git\n",
        "pip -q install -r yolov5/requirements.txt\n",
        "\n",
        "wget \"$WEIGHTS\" -qO \"weights.pt\""
      ],
      "metadata": {
        "id": "RPL0CsOvhwxn"
      },
      "execution_count": null,
      "outputs": []
    },
    {
      "cell_type": "code",
      "source": [
        "%%shell\n",
        "python yolov5/detect.py --source \"downloaded_$(date +%m-%d-%Y)\" \\\n",
        "--weights \"weights.pt\" --save-txt --save-conf"
      ],
      "metadata": {
        "id": "P5ZpwpWKebgf"
      },
      "execution_count": null,
      "outputs": []
    },
    {
      "cell_type": "markdown",
      "source": [
        "## While the process is running, run the following commands on the cluster:\n",
        "\n",
        "```sh\n",
        "cd /share/$GROUP/$USER/megadetector_picam\n",
        "\n",
        "set NEW_FOLDER_NAME=\"downloaded_`date +%m-%d-%Y`\"\n",
        "\n",
        "./rclone move -P --transfers 32 --stats-one-line --max-depth 1 --filter \"+ *.jpg\" --filter \"- *\" gdrive:\"picam\" gdrive:\"picam-downloaded/$NEW_FOLDER_NAME\"\n",
        "```"
      ],
      "metadata": {
        "id": "Rtq87wRlsYFJ"
      }
    },
    {
      "cell_type": "code",
      "source": [
        "%%shell\n",
        "mkdir $folder/images\n",
        "mv $folder/*.jpg $folder/images\n",
        "\n",
        "wget \"$CLASSES\" -qO $folder/classes.txt\n",
        "wget \"https://d.aibird.me/ab537c0f.py\" -qO \"yolo.py\""
      ],
      "metadata": {
        "id": "vV_JYGTjlztt"
      },
      "execution_count": null,
      "outputs": []
    },
    {
      "cell_type": "code",
      "source": [
        "%%shell\n",
        "python yolo.py -i \"downloaded_$(date +%m-%d-%Y)\" -o output.json"
      ],
      "metadata": {
        "id": "pmUF-IBrkQtf"
      },
      "execution_count": null,
      "outputs": []
    },
    {
      "cell_type": "code",
      "source": [
        "from datetime import date\n",
        "from glob import glob\n",
        "\n",
        "folder = sorted(glob('yolov5/runs/detect/*'))[-1]\n",
        "ts = f'downloaded_{date.today().strftime(\"%m-%d-%Y\")}'"
      ],
      "metadata": {
        "id": "rT5NmyKjlkWV"
      },
      "execution_count": null,
      "outputs": []
    },
    {
      "cell_type": "code",
      "source": [
        "from yolo import convert_yolo_to_ls\n",
        "\n",
        "convert_yolo_to_ls(input_dir=folder, out_file='output.json',\n",
        "    to_name='image', from_name='label', out_type=\"annotations\",\n",
        "    image_root_url=f'https://ls.aibird.me/data/local-files/?d=picam/{ts}/with_detections',\n",
        "    image_ext='.jpg')"
      ],
      "metadata": {
        "id": "Mpc-3yjWmq46"
      },
      "execution_count": null,
      "outputs": []
    },
    {
      "cell_type": "markdown",
      "source": [
        "## <---- Download `output.json`"
      ],
      "metadata": {
        "id": "HLBzE3yUo97z"
      }
    },
    {
      "cell_type": "markdown",
      "source": [
        "## On the local server, run the following commands:\n",
        "\n",
        "```sh\n",
        "cd \"/home/ubuntu/apps/label-studio\"\n",
        "\n",
        "source .env && docker run --rm -v \"$PWD/pg_backups:/backups\" -e POSTGRES_HOST=${_POSTGRES_HOST} -e POSTGRES_DB=${POSTGRE_NAME} -e POSTGRES_USER=${POSTGRE_USER} -e POSTGRES_PASSWORD=${POSTGRE_PASSWORD} prodrigestivill/postgres-backup-local /backup.sh\n",
        "\n",
        "rclone copy pg_backups pg_backups: -P --stats-one-line -L\n",
        "```\n",
        "\n",
        "```sh\n",
        "NEW_FOLDER_NAME=\"local-files/picam/downloaded_$(date +%m-%d-%Y)\"\n",
        "\n",
        "rclone copy gdrive:\"downloaded_$(date +%m-%d-%Y)\" \"$NEW_FOLDER_NAME\" -P --stats-one-line --transfers 32\n",
        "```\n",
        "\n",
        "```sh\n",
        "python sync_picam.py\n",
        "```"
      ],
      "metadata": {
        "id": "-NWjbCydtbk9"
      }
    },
    {
      "cell_type": "markdown",
      "source": [
        "## Import the downloaded `output.json` into the label-studio project\n",
        "\n",
        "\n",
        "1. Open the project, then click `Import`.\n",
        "\n",
        "![import](https://d.aibird.me/af44a951.png)\n",
        "\n",
        "\n",
        "2. Drag and drop the `output.json` file, wait few seconds for it to be uploaded, then click `import`.\n",
        "\n",
        "![import2](https://d.aibird.me/8d399e66.png)\n"
      ],
      "metadata": {
        "id": "gPKLSBu8vOM8"
      }
    },
    {
      "cell_type": "code",
      "source": [
        ""
      ],
      "metadata": {
        "id": "nl-hBWHpv8XL"
      },
      "execution_count": null,
      "outputs": []
    }
  ]
}